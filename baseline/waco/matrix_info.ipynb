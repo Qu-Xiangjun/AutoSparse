{
 "cells": [
  {
   "cell_type": "markdown",
   "metadata": {},
   "source": [
    "# View all the matrix info in dataset."
   ]
  },
  {
   "cell_type": "code",
   "execution_count": 1,
   "metadata": {},
   "outputs": [],
   "source": [
    "import os, sys\n",
    "import numpy as np\n",
    "import csv\n",
    "from tqdm import tqdm"
   ]
  },
  {
   "cell_type": "code",
   "execution_count": 2,
   "metadata": {},
   "outputs": [],
   "source": [
    "waco_prefix = os.getenv(\"AUTOSPARSE_HOME\")\n",
    "waco_prefix = os.path.join(waco_prefix, \"baseline\", \"waco\")\n"
   ]
  },
  {
   "cell_type": "code",
   "execution_count": 4,
   "metadata": {},
   "outputs": [],
   "source": [
    "def from_csr(filename) :\n",
    "    waco_prefix = os.getenv(\"AUTOSPARSE_HOME\")\n",
    "    if waco_prefix is None : \n",
    "        print(\"Err : environment variable WACO_HOME is not defined\")\n",
    "        return \n",
    "    waco_prefix = os.path.join(waco_prefix, \"baseline\", \"waco\")\n",
    "    \n",
    "    filepath = os.path.join(waco_prefix, \"pretrained\", \"dataset\", filename+'.csr')\n",
    "    csr = np.fromfile(filepath, dtype='<i4')\n",
    "    num_row,num_col,nnz = csr[0],csr[1],csr[2]\n",
    "    coo = np.zeros((nnz,2),dtype=int)\n",
    "    coo[:,1] = csr[3+num_row+1:] # col\n",
    "    bins = np.array(csr[4:num_row+4]) - np.array(csr[3:num_row+3])\n",
    "    coo[:,0] = np.repeat(range(num_row), bins)\n",
    "    return num_row, num_col, nnz, coo"
   ]
  },
  {
   "cell_type": "code",
   "execution_count": 5,
   "metadata": {},
   "outputs": [],
   "source": [
    "def get_all_files_in_directory(directory):\n",
    "    file_names = []\n",
    "    for filename in os.listdir(directory):\n",
    "        if os.path.isfile(os.path.join(directory, filename)):\n",
    "            file_names.append(filename)\n",
    "    return file_names"
   ]
  },
  {
   "cell_type": "code",
   "execution_count": 10,
   "metadata": {},
   "outputs": [
    {
     "name": "stdout",
     "output_type": "stream",
     "text": [
      "[INFO] analyse dataset info.\n"
     ]
    },
    {
     "name": "stderr",
     "output_type": "stream",
     "text": [
      "Analyse csr file: 100%|██████████| 975/975 [00:00<00:00, 19848.98it/s]\n",
      "Write analyse csv file: 100%|██████████| 975/975 [00:00<00:00, 466405.84it/s]\n"
     ]
    }
   ],
   "source": [
    "prefix = os.getenv(\"AUTOSPARSE_HOME\")\n",
    "waco_prefix = os.path.join(prefix, \"baseline\", \"waco\")\n",
    "dataset_info = []\n",
    "csv_file_path = os.path.join(waco_prefix, 'dataset_analyse_32.csv')\n",
    "print(\"[INFO] analyse dataset info.\")\n",
    "files_in_directory = get_all_files_in_directory(\n",
    "    os.path.join(prefix, \"pretrained\", \"dataset\")\n",
    ")\n",
    "for file_name in tqdm(\n",
    "    files_in_directory, total = len(files_in_directory),\n",
    "    desc = \"Analyse csr file\"\n",
    "):\n",
    "    if \".csr\" not in file_name:\n",
    "        continue\n",
    "    mtx_filepath = os.path.join(prefix, \"pretrained\", \"dataset\", file_name)\n",
    "    num_row, num_col, num_nonezero = np.fromfile(\n",
    "        mtx_filepath, count=3, dtype = '<i4'\n",
    "    )\n",
    "    \n",
    "    dataset_info.append([\n",
    "        file_name.split(\".\")[0], num_row, num_col, \n",
    "        num_nonezero, num_nonezero*1.0/num_row/num_col,\n",
    "        os.path.getsize(mtx_filepath)\n",
    "    ])\n",
    "\n",
    "# Write to a csv file\n",
    "with open(csv_file_path, 'w', newline='') as csv_file:\n",
    "    csv_writer = csv.writer(csv_file)\n",
    "    csv_writer.writerow([\n",
    "        \"File Name\", \"Num Rows\", \"Num Cols\", \"Num Nonzero\", \n",
    "        \"Sparsity\", \"Filesize\"\n",
    "    ])\n",
    "    for data_row in tqdm(\n",
    "        dataset_info, total = len(dataset_info), desc=\"Write analyse csv file\"\n",
    "    ):\n",
    "        if data_row[1] % 32 == 0 and data_row[2] % 32 == 0:\n",
    "            csv_writer.writerow(data_row)"
   ]
  },
  {
   "cell_type": "code",
   "execution_count": null,
   "metadata": {},
   "outputs": [],
   "source": []
  },
  {
   "cell_type": "code",
   "execution_count": null,
   "metadata": {},
   "outputs": [],
   "source": []
  }
 ],
 "metadata": {
  "kernelspec": {
   "display_name": "torch",
   "language": "python",
   "name": "python3"
  },
  "language_info": {
   "codemirror_mode": {
    "name": "ipython",
    "version": 3
   },
   "file_extension": ".py",
   "mimetype": "text/x-python",
   "name": "python",
   "nbconvert_exporter": "python",
   "pygments_lexer": "ipython3",
   "version": "3.9.18"
  }
 },
 "nbformat": 4,
 "nbformat_minor": 2
}
